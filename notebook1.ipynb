## initital
from pyspark.sql.functions import *
from pyspark.sql.functions import approxCountDistinct, broadcast , lower, col, count, countDistinct, sum
from functools import reduce
from pyspark.sql import DataFrame, Row
from math import pi ,sin ,cos
from pyspark.sql import Window
from pyspark.sql.functions import *
from pyspark.sql.types import *
from pyspark.sql.functions import unix_timestamp
from pyspark.sql.functions import from_unixtime
from pyspark.sql.functions import year, month, col
from pyspark.sql.functions import when, expr
from pyspark.sql.functions import approxCountDistinct, broadcast , lower, col, count, countDistinct, sum
from functools import reduce
from pyspark.sql import DataFrame, Row
from math import pi ,sin ,cos
from pyspark.sql import Window
from pyspark.sql.functions import *
from pyspark.sql.types import *
##### Load 
import time
import datetime
timestamp = datetime.datetime.fromtimestamp(time.time()).strftime('%Y-%m-%d %H:%M:%S')
type(timestamp)
from pyspark.sql.functions import lit, unix_timestamp
from pyspark.sql.types import *
import pandas as pd 
import warnings
warnings.filterwarnings('ignore')
from datetime import datetime
import os
