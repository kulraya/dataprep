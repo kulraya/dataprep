# Sample DataFrame
data = {'col1': ['123', '456', '789'],
        'col2': ['abc', 'def', 'ghi'],
        'col3': ['321', '654', '987'],
        # Add more columns as needed...
        }

df = pd.DataFrame(data)

# List of columns to convert
columns_to_convert = ['col1', 'col3']  # Add more column names here

# Convert selected columns to integer
for col in columns_to_convert:
    df[col] = df[col].astype(int)

print(df.dtypes)

df['col2'] = df['col2'].astype(str)
After converting the col1 column to string type using .astype(str), 
print(df.dtypes) will show that the data type of the col1 column is object. 
This is because in pandas, string columns are represented as object dtype.

# df1.limit(1) = df1.head(1)
df1.head(1)







